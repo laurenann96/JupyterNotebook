import xarray as xr
import cartopy.crs as ccrs
import matplotlib.pyplot as plt
import numpy as np
